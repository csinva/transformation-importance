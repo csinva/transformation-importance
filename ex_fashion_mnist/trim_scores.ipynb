{
 "cells": [
  {
   "cell_type": "code",
   "execution_count": 1,
   "metadata": {},
   "outputs": [],
   "source": [
    "%load_ext autoreload\n",
    "%autoreload 2\n",
    "%matplotlib inline\n",
    "import matplotlib.pyplot as plt\n",
    "import numpy as np\n",
    "import torch\n",
    "import random\n",
    "device = 'cuda' if torch.cuda.is_available() else 'cpu'\n",
    "import os,sys\n",
    "opj = os.path.join\n",
    "from tqdm import tqdm\n",
    "import acd\n",
    "from copy import deepcopy\n",
    "from model_fashion_mnist import Net, Net2c, FashionCNN\n",
    "import dset_fashion_mnist as dset\n",
    "from visualize import *\n",
    "import foolbox\n",
    "sys.path.append('../trim')\n",
    "from transforms_torch import transform_bandpass, tensor_t_augment, batch_fftshift2d, batch_ifftshift2d\n",
    "from trim import *\n",
    "from util import *\n",
    "from attributions import *\n",
    "from captum.attr import *\n",
    "import warnings\n",
    "warnings.filterwarnings(\"ignore\")"
   ]
  },
  {
   "cell_type": "code",
   "execution_count": 2,
   "metadata": {},
   "outputs": [
    {
     "name": "stdout",
     "output_type": "stream",
     "text": [
      "\n",
      "Test set: Average loss: 0.2084, Accuracy: 55438/60000 (92.40%)\n",
      "\n",
      "\n",
      "Test set: Average loss: 0.1405, Accuracy: 56902/60000 (94.84%)\n",
      "\n",
      "\n",
      "Test set: Average loss: 0.1255, Accuracy: 57763/60000 (96.27%)\n",
      "\n"
     ]
    }
   ],
   "source": [
    "# set args\n",
    "args = dset.get_args()\n",
    "args.cuda = \"True\"\n",
    "args.test_batch_size = 100\n",
    "\n",
    "# load fashion-mnist dataset\n",
    "train_loader, test_loader = dset.load_data(args.batch_size, args.test_batch_size, device, shuffle_target=False)\n",
    "\n",
    "# model\n",
    "model1 = FashionCNN().to(device)\n",
    "model1.load_state_dict(torch.load('models/FashionCNN_epochs=5.pth', map_location=device))\n",
    "model1 = model1.eval()\n",
    "dset.test(train_loader, model1, args)\n",
    "\n",
    "model2 = FashionCNN().to(device)\n",
    "model2.load_state_dict(torch.load('models/FashionCNN_epochs=10.pth', map_location=device))\n",
    "model2 = model2.eval()\n",
    "dset.test(train_loader, model2, args)\n",
    "\n",
    "model3 = FashionCNN().to(device)\n",
    "model3.load_state_dict(torch.load('models/FashionCNN_epochs=50.pth', map_location=device))\n",
    "model3 = model3.eval()\n",
    "dset.test(train_loader, model3, args)"
   ]
  },
  {
   "cell_type": "code",
   "execution_count": 3,
   "metadata": {},
   "outputs": [],
   "source": [
    "# FFT\n",
    "t = lambda x: torch.fft(torch.stack((x, torch.zeros_like(x)),dim=4), 2)\n",
    "transform_i = modularize(lambda x: torch.ifft(x, 2)[...,0])\n",
    "band_center = 0.6\n",
    "band_width_lower = 0.0\n",
    "band_width_upper = np.Inf\n",
    "t_bandpasser = lambda x: transform_bandpass(x, band_center, band_width_lower, band_width_upper)\n",
    "\n",
    "# prepend transformation\n",
    "model1_t = TrimModel(model1, transform_i)\n",
    "model2_t = TrimModel(model2, transform_i)\n",
    "model3_t = TrimModel(model3, transform_i)"
   ]
  },
  {
   "cell_type": "markdown",
   "metadata": {},
   "source": [
    "## attributions on the low- and high-frequency\n"
   ]
  },
  {
   "cell_type": "code",
   "execution_count": 4,
   "metadata": {},
   "outputs": [],
   "source": [
    "# mask band\n",
    "img_size = 28\n",
    "mask = 1 - freq_band(img_size, band_center, band_width_lower, band_width_upper)\n",
    "scores1 = {\n",
    "    'IG': [],\n",
    "    'DeepLift': [],\n",
    "    'SHAP': [],\n",
    "    'Saliency': [],\n",
    "    'InputXGradient': []\n",
    "}\n",
    "attr_methods = ['IG', 'DeepLift', 'SHAP', 'Saliency', 'InputXGradient']"
   ]
  },
  {
   "cell_type": "code",
   "execution_count": 5,
   "metadata": {},
   "outputs": [
    {
     "name": "stdout",
     "output_type": "stream",
     "text": [
      "iteration: 99"
     ]
    }
   ],
   "source": [
    "for batch_idx, (im, label) in enumerate(test_loader):\n",
    "    im = im.to(device)\n",
    "    im_t = t(im)\n",
    "    label = label.to(device)\n",
    "    \n",
    "    # attr\n",
    "    results = get_attributions(im_t, model1_t, class_num=label,\n",
    "                               attr_methods = ['IG', 'DeepLift', 'SHAP', 'Saliency', 'InputXGradient']) \n",
    "    for i, name in enumerate(attr_methods):\n",
    "        low_attr = (fftshift(results[name]) * mask).sum(axis=(1,2))\n",
    "        high_attr = (fftshift(results[name]) * (1-mask)).sum(axis=(1,2))\n",
    "        scores1[name].append(np.c_[low_attr, high_attr]) \n",
    "\n",
    "    print('\\riteration:', batch_idx, end='')\n",
    "\n",
    "scores1['IG'] = np.vstack(scores1['IG'])\n",
    "scores1['DeepLift'] = np.vstack(scores1['DeepLift'])\n",
    "scores1['SHAP'] = np.vstack(scores1['SHAP'])\n",
    "scores1['Saliency'] = np.vstack(scores1['Saliency'])\n",
    "scores1['InputXGradient'] = np.vstack(scores1['InputXGradient'])     \n",
    "# pkl.dump(scores, open('scores.pkl', 'wb'))"
   ]
  },
  {
   "cell_type": "code",
   "execution_count": null,
   "metadata": {},
   "outputs": [],
   "source": [
    "plt.hist(scores['IG'][:,0] - scores['IG'][:,1])\n",
    "plt.show()"
   ]
  },
  {
   "cell_type": "code",
   "execution_count": null,
   "metadata": {},
   "outputs": [],
   "source": [
    "plt.hist(scores['DeepLift'][:,0] - scores['DeepLift'][:,1])\n",
    "plt.show()"
   ]
  },
  {
   "cell_type": "code",
   "execution_count": null,
   "metadata": {},
   "outputs": [],
   "source": [
    "plt.hist(scores['SHAP'][:,0] - scores['SHAP'][:,1])\n",
    "plt.show()"
   ]
  },
  {
   "cell_type": "code",
   "execution_count": null,
   "metadata": {},
   "outputs": [],
   "source": [
    "plt.hist(scores['Saliency'][:,0] - scores['Saliency'][:,1])\n",
    "plt.show()"
   ]
  },
  {
   "cell_type": "code",
   "execution_count": null,
   "metadata": {},
   "outputs": [],
   "source": [
    "plt.hist(scores['InputXGradient'][:,0] - scores['InputXGradient'][:,1])\n",
    "plt.show()"
   ]
  },
  {
   "cell_type": "markdown",
   "metadata": {},
   "source": [
    "## attributions on the low- and high-frequency\n"
   ]
  },
  {
   "cell_type": "code",
   "execution_count": 6,
   "metadata": {},
   "outputs": [],
   "source": [
    "# mask band\n",
    "img_size = 28\n",
    "mask = 1 - freq_band(img_size, band_center, band_width_lower, band_width_upper)\n",
    "scores2 = {\n",
    "    'IG': [],\n",
    "    'DeepLift': [],\n",
    "    'SHAP': [],\n",
    "    'Saliency': [],\n",
    "    'InputXGradient': []\n",
    "}\n",
    "attr_methods = ['IG', 'DeepLift', 'SHAP', 'Saliency', 'InputXGradient']"
   ]
  },
  {
   "cell_type": "code",
   "execution_count": 7,
   "metadata": {},
   "outputs": [
    {
     "name": "stdout",
     "output_type": "stream",
     "text": [
      "iteration: 99"
     ]
    }
   ],
   "source": [
    "for batch_idx, (im, label) in enumerate(test_loader):\n",
    "    im = im.to(device)\n",
    "    im_t = t(im)\n",
    "    label = label.to(device)\n",
    "    \n",
    "    # attr\n",
    "    results = get_attributions(im_t, model2_t, class_num=label,\n",
    "                               attr_methods = ['IG', 'DeepLift', 'SHAP', 'Saliency', 'InputXGradient']) \n",
    "    for i, name in enumerate(attr_methods):\n",
    "        low_attr = (fftshift(results[name]) * mask).sum(axis=(1,2))\n",
    "        high_attr = (fftshift(results[name]) * (1-mask)).sum(axis=(1,2))\n",
    "        scores2[name].append(np.c_[low_attr, high_attr]) \n",
    "\n",
    "    print('\\riteration:', batch_idx, end='')\n",
    "\n",
    "scores2['IG'] = np.vstack(scores2['IG'])\n",
    "scores2['DeepLift'] = np.vstack(scores2['DeepLift'])\n",
    "scores2['SHAP'] = np.vstack(scores2['SHAP'])\n",
    "scores2['Saliency'] = np.vstack(scores2['Saliency'])\n",
    "scores2['InputXGradient'] = np.vstack(scores2['InputXGradient'])     \n",
    "# pkl.dump(scores, open('scores.pkl', 'wb'))"
   ]
  },
  {
   "cell_type": "code",
   "execution_count": null,
   "metadata": {},
   "outputs": [],
   "source": [
    "plt.hist(scores['IG'][:,0] - scores['IG'][:,1])\n",
    "plt.show()"
   ]
  },
  {
   "cell_type": "code",
   "execution_count": null,
   "metadata": {},
   "outputs": [],
   "source": [
    "plt.hist(scores['DeepLift'][:,0] - scores['DeepLift'][:,1])\n",
    "plt.show()"
   ]
  },
  {
   "cell_type": "code",
   "execution_count": null,
   "metadata": {},
   "outputs": [],
   "source": [
    "plt.hist(scores['SHAP'][:,0] - scores['SHAP'][:,1])\n",
    "plt.show()"
   ]
  },
  {
   "cell_type": "code",
   "execution_count": null,
   "metadata": {},
   "outputs": [],
   "source": [
    "plt.hist(scores['Saliency'][:,0] - scores['Saliency'][:,1])\n",
    "plt.show()"
   ]
  },
  {
   "cell_type": "code",
   "execution_count": null,
   "metadata": {},
   "outputs": [],
   "source": [
    "plt.hist(scores['InputXGradient'][:,0] - scores['InputXGradient'][:,1])\n",
    "plt.show()"
   ]
  },
  {
   "cell_type": "markdown",
   "metadata": {},
   "source": [
    "## attributions on the low- and high-frequency\n"
   ]
  },
  {
   "cell_type": "code",
   "execution_count": 8,
   "metadata": {},
   "outputs": [],
   "source": [
    "# mask band\n",
    "img_size = 28\n",
    "mask = 1 - freq_band(img_size, band_center, band_width_lower, band_width_upper)\n",
    "scores3 = {\n",
    "    'IG': [],\n",
    "    'DeepLift': [],\n",
    "    'SHAP': [],\n",
    "    'Saliency': [],\n",
    "    'InputXGradient': []\n",
    "}\n",
    "attr_methods = ['IG', 'DeepLift', 'SHAP', 'Saliency', 'InputXGradient']"
   ]
  },
  {
   "cell_type": "code",
   "execution_count": 9,
   "metadata": {},
   "outputs": [
    {
     "name": "stdout",
     "output_type": "stream",
     "text": [
      "iteration: 99"
     ]
    }
   ],
   "source": [
    "for batch_idx, (im, label) in enumerate(test_loader):\n",
    "    im = im.to(device)\n",
    "    im_t = t(im)\n",
    "    label = label.to(device)\n",
    "    \n",
    "    # attr\n",
    "    results = get_attributions(im_t, model3_t, class_num=label,\n",
    "                               attr_methods = ['IG', 'DeepLift', 'SHAP', 'Saliency', 'InputXGradient']) \n",
    "    for i, name in enumerate(attr_methods):\n",
    "        low_attr = (fftshift(results[name]) * mask).sum(axis=(1,2))\n",
    "        high_attr = (fftshift(results[name]) * (1-mask)).sum(axis=(1,2))\n",
    "        scores3[name].append(np.c_[low_attr, high_attr]) \n",
    "\n",
    "    print('\\riteration:', batch_idx, end='')\n",
    "\n",
    "scores3['IG'] = np.vstack(scores3['IG'])\n",
    "scores3['DeepLift'] = np.vstack(scores3['DeepLift'])\n",
    "scores3['SHAP'] = np.vstack(scores3['SHAP'])\n",
    "scores3['Saliency'] = np.vstack(scores3['Saliency'])\n",
    "scores3['InputXGradient'] = np.vstack(scores3['InputXGradient'])     \n",
    "# pkl.dump(scores, open('scores.pkl', 'wb'))"
   ]
  },
  {
   "cell_type": "code",
   "execution_count": null,
   "metadata": {},
   "outputs": [],
   "source": [
    "plt.hist(scores['IG'][:,0] - scores['IG'][:,1])\n",
    "plt.show()"
   ]
  },
  {
   "cell_type": "code",
   "execution_count": null,
   "metadata": {},
   "outputs": [],
   "source": [
    "plt.hist(scores['DeepLift'][:,0] - scores['DeepLift'][:,1])\n",
    "plt.show()"
   ]
  },
  {
   "cell_type": "code",
   "execution_count": null,
   "metadata": {},
   "outputs": [],
   "source": [
    "plt.hist(scores['SHAP'][:,0] - scores['SHAP'][:,1])\n",
    "plt.show()"
   ]
  },
  {
   "cell_type": "code",
   "execution_count": null,
   "metadata": {},
   "outputs": [],
   "source": [
    "plt.hist(scores['Saliency'][:,0] - scores['Saliency'][:,1])\n",
    "plt.show()"
   ]
  },
  {
   "cell_type": "code",
   "execution_count": null,
   "metadata": {},
   "outputs": [],
   "source": [
    "plt.hist(scores['InputXGradient'][:,0] - scores['InputXGradient'][:,1])\n",
    "plt.show()"
   ]
  },
  {
   "cell_type": "code",
   "execution_count": null,
   "metadata": {},
   "outputs": [],
   "source": []
  },
  {
   "cell_type": "code",
   "execution_count": 20,
   "metadata": {},
   "outputs": [
    {
     "data": {
      "image/png": "[encoded data removed]",
      "text/plain": [
       "<Figure size 432x288 with 1 Axes>"
      ]
     },
     "metadata": {
      "needs_background": "light"
     },
     "output_type": "display_data"
    }
   ],
   "source": [
    "plt.hist(scores1['IG'][:,0] - scores1['IG'][:,1], bins=50)\n",
    "plt.show()"
   ]
  },
  {
   "cell_type": "code",
   "execution_count": 19,
   "metadata": {},
   "outputs": [
    {
     "data": {
      "image/png": "[encoded data removed]",
      "text/plain": [
       "<Figure size 432x288 with 1 Axes>"
      ]
     },
     "metadata": {
      "needs_background": "light"
     },
     "output_type": "display_data"
    }
   ],
   "source": [
    "plt.hist(scores2['IG'][:,0] - scores2['IG'][:,1], bins=50)\n",
    "plt.show()"
   ]
  },
  {
   "cell_type": "code",
   "execution_count": 21,
   "metadata": {},
   "outputs": [
    {
     "data": {
      "image/png": "[encoded data removed]",
      "text/plain": [
       "<Figure size 432x288 with 1 Axes>"
      ]
     },
     "metadata": {
      "needs_background": "light"
     },
     "output_type": "display_data"
    }
   ],
   "source": [
    "plt.hist(scores3['IG'][:,0] - scores3['IG'][:,1], bins=50)\n",
    "plt.show()"
   ]
  },
  {
   "cell_type": "code",
   "execution_count": null,
   "metadata": {},
   "outputs": [],
   "source": []
  }
 ],
 "metadata": {
  "kernelspec": {
   "display_name": "Environment (conda_pytorch_p36)",
   "language": "python",
   "name": "conda_pytorch_p36"
  },
  "language_info": {
   "codemirror_mode": {
    "name": "ipython",
    "version": 3
   },
   "file_extension": ".py",
   "mimetype": "text/x-python",
   "name": "python",
   "nbconvert_exporter": "python",
   "pygments_lexer": "ipython3",
   "version": "3.6.10"
  }
 },
 "nbformat": 4,
 "nbformat_minor": 4
}
