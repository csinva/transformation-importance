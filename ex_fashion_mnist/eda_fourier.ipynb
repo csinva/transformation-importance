{
 "cells": [
  {
   "cell_type": "code",
   "execution_count": 1,
   "metadata": {},
   "outputs": [],
   "source": [
    "%load_ext autoreload\n",
    "%autoreload 2\n",
    "%matplotlib inline\n",
    "import matplotlib.pyplot as plt\n",
    "import numpy as np\n",
    "import torch\n",
    "import random\n",
    "device = 'cuda' if torch.cuda.is_available() else 'cpu'\n",
    "import os,sys\n",
    "opj = os.path.join\n",
    "from tqdm import tqdm\n",
    "import acd\n",
    "from copy import deepcopy\n",
    "from model_fashion_mnist import Net, Net2c\n",
    "import dset_fashion_mnist as dset\n",
    "sys.path.append('../trim')\n",
    "from transforms_torch import transform_bandpass, tensor_t_augment, batch_fftshift2d, batch_ifftshift2d\n",
    "from trim import *\n",
    "from util import *\n",
    "from captum.attr import *\n",
    "import skimage.data\n",
    "import warnings\n",
    "warnings.filterwarnings(\"ignore\")"
   ]
  },
  {
   "cell_type": "code",
   "execution_count": 2,
   "metadata": {},
   "outputs": [],
   "source": [
    "# set args\n",
    "args = dset.get_args()\n",
    "\n",
    "# load fashion-mnist dataset\n",
    "train_loader, test_loader = dset.load_data(args.batch_size, args.test_batch_size, device)"
   ]
  },
  {
   "cell_type": "code",
   "execution_count": 3,
   "metadata": {},
   "outputs": [],
   "source": [
    "# FFT\n",
    "t = lambda x: torch.fft(torch.stack((x, torch.zeros_like(x)),dim=4), 2)\n",
    "transform_i = modularize(lambda x: torch.ifft(x, 2)[...,0])\n",
    "band_center = 0.5\n",
    "band_width_lower = 0.0\n",
    "band_width_upper = np.Inf\n",
    "transformer = lambda x: transform_bandpass(x, band_center, band_width_lower, band_width_upper)\n",
    "\n",
    "# imgs\n",
    "im = iter(test_loader).next()[0][10:11]\n",
    "im_f = t(im)\n",
    "im_bandpass = transformer(im)"
   ]
  },
  {
   "cell_type": "code",
   "execution_count": 6,
   "metadata": {},
   "outputs": [
    {
     "data": {
      "image/png": "[encoded data removed]",
      "text/plain": [
       "<Figure size 600x600 with 4 Axes>"
      ]
     },
     "metadata": {
      "needs_background": "light"
     },
     "output_type": "display_data"
    }
   ],
   "source": [
    "# viz \n",
    "plt.figure(figsize=(4,4),dpi=150)\n",
    "list_of_im = [im, transformer(im)]\n",
    "for i in range(2):\n",
    "    im_viz = list_of_im[i]\n",
    "    plt.subplot(2, 2, i*2 + 1)\n",
    "    plt.imshow(im_viz.squeeze(), cmap='gray')\n",
    "    plt.axis('off')\n",
    "    plt.subplot(2, 2, i*2 + 2)\n",
    "    plt.imshow(mag(batch_fftshift2d(t(im_viz)).squeeze()), cmap='gray')\n",
    "    plt.axis('off')    \n",
    "plt.tight_layout()\n",
    "plt.show()"
   ]
  },
  {
   "cell_type": "code",
   "execution_count": null,
   "metadata": {},
   "outputs": [],
   "source": []
  },
  {
   "cell_type": "code",
   "execution_count": null,
   "metadata": {},
   "outputs": [],
   "source": []
  }
 ],
 "metadata": {
  "kernelspec": {
   "display_name": "Environment (conda_pytorch_p36)",
   "language": "python",
   "name": "conda_pytorch_p36"
  },
  "language_info": {
   "codemirror_mode": {
    "name": "ipython",
    "version": 3
   },
   "file_extension": ".py",
   "mimetype": "text/x-python",
   "name": "python",
   "nbconvert_exporter": "python",
   "pygments_lexer": "ipython3",
   "version": "3.6.10"
  }
 },
 "nbformat": 4,
 "nbformat_minor": 4
}
